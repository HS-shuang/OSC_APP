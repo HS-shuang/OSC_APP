{
 "cells": [
  {
   "cell_type": "code",
   "execution_count": 4,
   "metadata": {
    "collapsed": true
   },
   "outputs": [],
   "source": [
    "import numpy as np\n",
    "import torch\n",
    "from torch.utils.data import Dataset, DataLoader\n",
    "import torch.nn as nn\n",
    "from MakeData_new import make_data\n",
    "import matplotlib.pyplot as plt\n",
    "from datetime import datetime"
   ]
  },
  {
   "cell_type": "code",
   "execution_count": 5,
   "outputs": [],
   "source": [
    "class MyDataSet(Dataset):\n",
    "    def __init__(self, features_path, labels_path, trans=None, target_trans=None):\n",
    "        self.features = np.load(features_path, allow_pickle=True)\n",
    "        self.labels = np.load(labels_path, allow_pickle=True)\n",
    "        self.trans = trans\n",
    "        self.target_trans = target_trans\n",
    "\n",
    "    def __len__(self):\n",
    "        return len(self.labels)\n",
    "\n",
    "    def __getitem__(self, item):\n",
    "        feature, label = self.features[item], self.labels[item]\n",
    "        if self.trans:\n",
    "            feature = self.trans(feature)\n",
    "        if self.target_trans:\n",
    "            label = self.target_trans(label)\n",
    "        return feature, label\n",
    "\n",
    "\n",
    "def my_trans(x):\n",
    "    return torch.Tensor(x)\n",
    "\n",
    "train_set = MyDataSet('../../../Train_new/train_features.npy', '../../../Train_new/train_labels.npy',\n",
    "                      trans=my_trans, target_trans=my_trans)\n",
    "test_set = MyDataSet('../../../Train_new/test_features.npy', '../../../Train_new/test_labels.npy',\n",
    "                      trans=my_trans, target_trans=my_trans)\n",
    "train_loader = DataLoader(train_set, batch_size=10)\n",
    "test_loader = DataLoader(test_set, batch_size=10)"
   ],
   "metadata": {
    "collapsed": false,
    "pycharm": {
     "name": "#%% 数据集\n"
    }
   }
  },
  {
   "cell_type": "code",
   "execution_count": 6,
   "outputs": [
    {
     "data": {
      "text/plain": "<Figure size 432x288 with 1 Axes>",
      "image/png": "[encoded data removed]"
     },
     "metadata": {
      "needs_background": "light"
     },
     "output_type": "display_data"
    },
    {
     "name": "stdout",
     "output_type": "stream",
     "text": [
      "512 512\n"
     ]
    }
   ],
   "source": [
    "plt.figure()\n",
    "feature, label = train_set[1]\n",
    "x = np.linspace(0.1, 9, 512)\n",
    "plt.plot(x, feature)\n",
    "plt.plot(x, label)\n",
    "plt.show()\n",
    "print(len(label), len(feature))"
   ],
   "metadata": {
    "collapsed": false,
    "pycharm": {
     "name": "#%% 展示数据\n"
    }
   }
  },
  {
   "cell_type": "code",
   "execution_count": 7,
   "outputs": [
    {
     "name": "stdout",
     "output_type": "stream",
     "text": [
      "parameters:\n",
      "Parameter containing:\n",
      "tensor([[-0.0015,  0.0300, -0.0036,  ..., -0.0190,  0.0176, -0.0397],\n",
      "        [ 0.0297,  0.0156,  0.0403,  ...,  0.0011, -0.0314, -0.0441],\n",
      "        [-0.0074, -0.0427,  0.0025,  ..., -0.0187, -0.0211, -0.0139],\n",
      "        ...,\n",
      "        [ 0.0057,  0.0191,  0.0207,  ..., -0.0020,  0.0280, -0.0040],\n",
      "        [ 0.0157, -0.0215,  0.0400,  ...,  0.0043,  0.0006,  0.0278],\n",
      "        [ 0.0431,  0.0049,  0.0313,  ...,  0.0256,  0.0021, -0.0278]],\n",
      "       requires_grad=True)\n",
      "Parameter containing:\n",
      "tensor([ 0.0311,  0.0021, -0.0070, -0.0079,  0.0058,  0.0074, -0.0292, -0.0103,\n",
      "        -0.0090, -0.0398,  0.0419,  0.0308, -0.0294, -0.0414, -0.0057,  0.0222,\n",
      "        -0.0058,  0.0077, -0.0048, -0.0051, -0.0105,  0.0402, -0.0173,  0.0244,\n",
      "         0.0050, -0.0377,  0.0003, -0.0103, -0.0306, -0.0086,  0.0350,  0.0196,\n",
      "         0.0073, -0.0320, -0.0298, -0.0353, -0.0193,  0.0111, -0.0092,  0.0148,\n",
      "         0.0347,  0.0436, -0.0290,  0.0109, -0.0412,  0.0439,  0.0085, -0.0132,\n",
      "         0.0305, -0.0094,  0.0112,  0.0367,  0.0436, -0.0270, -0.0070, -0.0177,\n",
      "        -0.0135,  0.0021, -0.0226, -0.0368,  0.0330, -0.0442,  0.0219,  0.0038,\n",
      "         0.0397, -0.0103,  0.0157,  0.0115, -0.0155, -0.0401, -0.0330,  0.0094,\n",
      "         0.0283, -0.0106,  0.0436,  0.0108,  0.0124, -0.0373,  0.0036, -0.0116,\n",
      "         0.0223, -0.0118,  0.0058, -0.0123, -0.0302,  0.0074, -0.0427, -0.0205,\n",
      "        -0.0217,  0.0132, -0.0173,  0.0379,  0.0128,  0.0263,  0.0222,  0.0387,\n",
      "         0.0060, -0.0236,  0.0182,  0.0311,  0.0012, -0.0422, -0.0273, -0.0270,\n",
      "         0.0008,  0.0208, -0.0023,  0.0360,  0.0254, -0.0179,  0.0320,  0.0142,\n",
      "        -0.0166, -0.0186,  0.0435, -0.0339, -0.0144,  0.0244,  0.0361,  0.0242,\n",
      "         0.0353,  0.0212,  0.0281,  0.0223, -0.0302, -0.0257,  0.0077, -0.0097,\n",
      "        -0.0115,  0.0196, -0.0392, -0.0192,  0.0179, -0.0345,  0.0265,  0.0334,\n",
      "        -0.0422,  0.0370,  0.0042, -0.0200, -0.0217, -0.0032, -0.0105, -0.0035,\n",
      "        -0.0402,  0.0382,  0.0044, -0.0118, -0.0140, -0.0275,  0.0114, -0.0128,\n",
      "        -0.0206,  0.0260,  0.0279,  0.0195, -0.0103, -0.0187,  0.0262,  0.0227,\n",
      "        -0.0016, -0.0384, -0.0265,  0.0106, -0.0429,  0.0354,  0.0307,  0.0233,\n",
      "        -0.0279, -0.0334,  0.0396,  0.0147,  0.0225, -0.0404, -0.0023, -0.0306,\n",
      "         0.0105,  0.0251,  0.0257, -0.0309,  0.0176,  0.0192, -0.0196, -0.0351,\n",
      "         0.0267, -0.0159, -0.0435, -0.0140,  0.0188, -0.0073, -0.0374,  0.0062,\n",
      "        -0.0218, -0.0153,  0.0101, -0.0236,  0.0156,  0.0189, -0.0073, -0.0065],\n",
      "       requires_grad=True)\n",
      "Parameter containing:\n",
      "tensor([[-0.0178,  0.0177,  0.0587,  ...,  0.0557,  0.0372, -0.0003],\n",
      "        [ 0.0179,  0.0597, -0.0134,  ...,  0.0344,  0.0443, -0.0699],\n",
      "        [ 0.0061,  0.0504, -0.0537,  ..., -0.0439, -0.0362,  0.0580],\n",
      "        [ 0.0161,  0.0022, -0.0395,  ...,  0.0630, -0.0296, -0.0240],\n",
      "        [ 0.0594, -0.0376,  0.0332,  ...,  0.0465,  0.0365,  0.0152],\n",
      "        [-0.0274, -0.0321, -0.0580,  ...,  0.0244,  0.0248,  0.0554]],\n",
      "       requires_grad=True)\n",
      "Parameter containing:\n",
      "tensor([-0.0022,  0.0592, -0.0119,  0.0373,  0.0115, -0.0490],\n",
      "       requires_grad=True)\n"
     ]
    }
   ],
   "source": [
    "class pa_poly(torch.autograd.Function):\n",
    "    def forward(ctx, pa, x = torch.linspace(0.1, 9, 512)/9):\n",
    "        ctx.n = len(pa[0])\n",
    "        ctx.save_for_backward(pa)\n",
    "        ctx.x = x\n",
    "        my_out = []\n",
    "        for ppa in pa:\n",
    "            y = 0\n",
    "            for i, p in enumerate(ppa):\n",
    "                y += p * x.pow(ctx.n - i)\n",
    "            my_out.append(y)\n",
    "        return torch.stack(my_out)\n",
    "\n",
    "    def backward(ctx, grad_out):\n",
    "        input, = ctx.saved_tensors\n",
    "        out = [torch.tensor([(grad_out * (ctx.n-i) * p * ctx.x.pow(ctx.n-i-1)).sum() for i, p in enumerate(pa)], requires_grad=True)\n",
    "               for pa in input]\n",
    "        out = torch.stack(out)\n",
    "        return  out\n",
    "\n",
    "\n",
    "class LK(nn.Module):\n",
    "    def __init__(self, x_poly, order=6):\n",
    "        super().__init__()\n",
    "        self.order = order\n",
    "        self.l1 = nn.Linear(512, 200)\n",
    "        self.activation1 = torch.nn.Tanh()\n",
    "        self.l2 = nn.Linear(200, order)\n",
    "        self.activation2 = torch.nn.Tanh()\n",
    "        self.f = pa_poly.apply\n",
    "\n",
    "    def poly_pa(self, x):\n",
    "        x = self.l1(x)\n",
    "        x = self.activation1(x)\n",
    "        x = self.l2(x)\n",
    "        x = self.activation2(x)\n",
    "        return x\n",
    "\n",
    "    def forward(self, x):\n",
    "        pa = self.poly_pa(x)\n",
    "        y = self.f(pa)\n",
    "        return y\n",
    "\n",
    "x = np.linspace(0.1, 9, 512)\n",
    "my_model = LK(x, order=6)\n",
    "\n",
    "print('parameters:')\n",
    "for pa in my_model.parameters():\n",
    "    print(pa)"
   ],
   "metadata": {
    "collapsed": false,
    "pycharm": {
     "name": "#%% 定义模型\n"
    }
   }
  },
  {
   "cell_type": "code",
   "execution_count": 8,
   "outputs": [
    {
     "name": "stdout",
     "output_type": "stream",
     "text": [
      "train label:\n",
      "tensor([0.0050, 0.0058, 0.0067, 0.0075, 0.0084, 0.0092, 0.0100, 0.0109, 0.0117,\n",
      "        0.0125, 0.0134, 0.0142, 0.0150, 0.0158, 0.0166, 0.0174, 0.0183, 0.0191,\n",
      "        0.0199, 0.0207, 0.0215, 0.0222, 0.0230, 0.0238, 0.0246, 0.0254, 0.0262,\n",
      "        0.0269, 0.0277, 0.0285, 0.0293, 0.0300, 0.0308, 0.0315, 0.0323, 0.0331,\n",
      "        0.0338, 0.0346, 0.0353, 0.0361, 0.0368, 0.0375, 0.0383, 0.0390, 0.0397,\n",
      "        0.0405, 0.0412, 0.0419, 0.0427, 0.0434, 0.0441, 0.0448, 0.0455, 0.0463,\n",
      "        0.0470, 0.0477, 0.0484, 0.0491, 0.0498, 0.0505, 0.0512, 0.0519, 0.0526,\n",
      "        0.0533, 0.0540, 0.0547, 0.0554, 0.0561, 0.0568, 0.0574, 0.0581, 0.0588,\n",
      "        0.0595, 0.0602, 0.0609, 0.0615, 0.0622, 0.0629, 0.0636, 0.0642, 0.0649,\n",
      "        0.0656, 0.0662, 0.0669, 0.0676, 0.0682, 0.0689, 0.0696, 0.0702, 0.0709,\n",
      "        0.0715, 0.0722, 0.0729, 0.0735, 0.0742, 0.0748, 0.0755, 0.0761, 0.0768,\n",
      "        0.0774, 0.0781, 0.0787, 0.0794, 0.0800, 0.0807, 0.0813, 0.0820, 0.0826,\n",
      "        0.0833, 0.0839, 0.0846, 0.0852, 0.0858, 0.0865, 0.0871, 0.0878, 0.0884,\n",
      "        0.0891, 0.0897, 0.0903, 0.0910, 0.0916, 0.0923, 0.0929, 0.0936, 0.0942,\n",
      "        0.0948, 0.0955, 0.0961, 0.0968, 0.0974, 0.0980, 0.0987, 0.0993, 0.1000,\n",
      "        0.1006, 0.1013, 0.1019, 0.1026, 0.1032, 0.1038, 0.1045, 0.1051, 0.1058,\n",
      "        0.1064, 0.1071, 0.1077, 0.1084, 0.1090, 0.1097, 0.1103, 0.1110, 0.1117,\n",
      "        0.1123, 0.1130, 0.1136, 0.1143, 0.1149, 0.1156, 0.1163, 0.1169, 0.1176,\n",
      "        0.1183, 0.1189, 0.1196, 0.1203, 0.1209, 0.1216, 0.1223, 0.1230, 0.1236,\n",
      "        0.1243, 0.1250, 0.1257, 0.1264, 0.1271, 0.1277, 0.1284, 0.1291, 0.1298,\n",
      "        0.1305, 0.1312, 0.1319, 0.1326, 0.1333, 0.1340, 0.1347, 0.1354, 0.1362,\n",
      "        0.1369, 0.1376, 0.1383, 0.1390, 0.1398, 0.1405, 0.1412, 0.1419, 0.1427,\n",
      "        0.1434, 0.1442, 0.1449, 0.1456, 0.1464, 0.1472, 0.1479, 0.1487, 0.1494,\n",
      "        0.1502, 0.1510, 0.1517, 0.1525, 0.1533, 0.1541, 0.1549, 0.1556, 0.1564,\n",
      "        0.1572, 0.1580, 0.1588, 0.1596, 0.1605, 0.1613, 0.1621, 0.1629, 0.1637,\n",
      "        0.1646, 0.1654, 0.1662, 0.1671, 0.1679, 0.1688, 0.1696, 0.1705, 0.1714,\n",
      "        0.1722, 0.1731, 0.1740, 0.1749, 0.1757, 0.1766, 0.1775, 0.1784, 0.1794,\n",
      "        0.1803, 0.1812, 0.1821, 0.1830, 0.1840, 0.1849, 0.1858, 0.1868, 0.1878,\n",
      "        0.1887, 0.1897, 0.1907, 0.1916, 0.1926, 0.1936, 0.1946, 0.1956, 0.1966,\n",
      "        0.1976, 0.1986, 0.1997, 0.2007, 0.2017, 0.2028, 0.2038, 0.2049, 0.2060,\n",
      "        0.2070, 0.2081, 0.2092, 0.2103, 0.2114, 0.2125, 0.2136, 0.2147, 0.2159,\n",
      "        0.2170, 0.2181, 0.2193, 0.2205, 0.2216, 0.2228, 0.2240, 0.2252, 0.2264,\n",
      "        0.2276, 0.2288, 0.2300, 0.2312, 0.2325, 0.2337, 0.2350, 0.2362, 0.2375,\n",
      "        0.2388, 0.2401, 0.2414, 0.2427, 0.2440, 0.2453, 0.2467, 0.2480, 0.2494,\n",
      "        0.2507, 0.2521, 0.2535, 0.2549, 0.2563, 0.2577, 0.2591, 0.2606, 0.2620,\n",
      "        0.2635, 0.2649, 0.2664, 0.2679, 0.2694, 0.2709, 0.2724, 0.2739, 0.2755,\n",
      "        0.2770, 0.2786, 0.2802, 0.2817, 0.2833, 0.2850, 0.2866, 0.2882, 0.2898,\n",
      "        0.2915, 0.2932, 0.2948, 0.2965, 0.2982, 0.3000, 0.3017, 0.3034, 0.3052,\n",
      "        0.3070, 0.3087, 0.3105, 0.3123, 0.3142, 0.3160, 0.3178, 0.3197, 0.3216,\n",
      "        0.3235, 0.3254, 0.3273, 0.3292, 0.3312, 0.3331, 0.3351, 0.3371, 0.3391,\n",
      "        0.3411, 0.3432, 0.3452, 0.3473, 0.3493, 0.3514, 0.3536, 0.3557, 0.3578,\n",
      "        0.3600, 0.3622, 0.3643, 0.3666, 0.3688, 0.3710, 0.3733, 0.3756, 0.3778,\n",
      "        0.3802, 0.3825, 0.3848, 0.3872, 0.3896, 0.3920, 0.3944, 0.3968, 0.3993,\n",
      "        0.4017, 0.4042, 0.4067, 0.4093, 0.4118, 0.4144, 0.4169, 0.4195, 0.4222,\n",
      "        0.4248, 0.4275, 0.4301, 0.4328, 0.4356, 0.4383, 0.4411, 0.4438, 0.4467,\n",
      "        0.4495, 0.4523, 0.4552, 0.4581, 0.4610, 0.4639, 0.4669, 0.4698, 0.4728,\n",
      "        0.4759, 0.4789, 0.4820, 0.4850, 0.4882, 0.4913, 0.4944, 0.4976, 0.5008,\n",
      "        0.5041, 0.5073, 0.5106, 0.5139, 0.5172, 0.5206, 0.5239, 0.5273, 0.5308,\n",
      "        0.5342, 0.5377, 0.5412, 0.5447, 0.5483, 0.5518, 0.5554, 0.5591, 0.5627,\n",
      "        0.5664, 0.5701, 0.5739, 0.5776, 0.5814, 0.5852, 0.5891, 0.5930, 0.5969,\n",
      "        0.6008, 0.6048, 0.6088, 0.6128, 0.6168, 0.6209, 0.6250, 0.6292, 0.6333,\n",
      "        0.6375, 0.6418, 0.6460, 0.6503, 0.6547, 0.6590, 0.6634, 0.6678, 0.6723,\n",
      "        0.6768, 0.6813, 0.6858, 0.6904, 0.6950, 0.6997, 0.7043, 0.7091, 0.7138,\n",
      "        0.7186, 0.7234, 0.7283, 0.7331, 0.7381, 0.7430, 0.7480, 0.7530, 0.7581,\n",
      "        0.7632, 0.7683, 0.7735, 0.7787, 0.7840, 0.7893, 0.7946, 0.7999, 0.8053,\n",
      "        0.8108, 0.8163, 0.8218, 0.8273, 0.8329, 0.8385, 0.8442, 0.8499, 0.8557,\n",
      "        0.8615, 0.8673, 0.8732, 0.8791, 0.8850, 0.8910, 0.8971, 0.9032])\n",
      "\n",
      "loss:\n",
      "4.0\n"
     ]
    }
   ],
   "source": [
    "loss_fn = torch.nn.MSELoss()\n",
    "feature, label = train_set[1]\n",
    "outputs = label + 2\n",
    "\n",
    "print(f'train label:\\n{label}\\n')\n",
    "print(f'loss:\\n{loss_fn(outputs, label)}')"
   ],
   "metadata": {
    "collapsed": false,
    "pycharm": {
     "name": "#%% LOSS\n"
    }
   }
  },
  {
   "cell_type": "code",
   "execution_count": 9,
   "outputs": [],
   "source": [
    "optimizer = torch.optim.SGD(my_model.parameters(), lr=0.002, momentum=0.9)"
   ],
   "metadata": {
    "collapsed": false,
    "pycharm": {
     "name": "#%% Optimizer\n"
    }
   }
  },
  {
   "cell_type": "code",
   "execution_count": 10,
   "outputs": [],
   "source": [
    "def train_one_epoch(epoch_index, writer):\n",
    "    running_loss = 0.\n",
    "    last_loss = 0.\n",
    "\n",
    "    for i, data in enumerate(train_loader):\n",
    "        input, label = data\n",
    "\n",
    "        # Zero your gradients for every batch!\n",
    "        optimizer.zero_grad()\n",
    "\n",
    "        # Make predictions for this batch\n",
    "        output = my_model(input)\n",
    "\n",
    "        # Compute the loss and its gradients\n",
    "        loss = loss_fn(output, label)\n",
    "        loss.backward()\n",
    "\n",
    "        # Adjust learning weights\n",
    "        optimizer.step()\n",
    "\n",
    "        # Gather data and report\n",
    "        running_loss += loss.item()\n",
    "        if i % 100 == 99:\n",
    "            last_loss = running_loss / 100 # loss per batch\n",
    "\n",
    "            loss_x = epoch_index * len(train_loader) + i + 1\n",
    "            writer.add_scalar('Loss/train', last_loss, loss_x)\n",
    "\n",
    "            running_loss = 0.\n",
    "\n",
    "    return last_loss"
   ],
   "metadata": {
    "collapsed": false,
    "pycharm": {
     "name": "#%%\n"
    }
   }
  },
  {
   "cell_type": "code",
   "execution_count": 11,
   "outputs": [
    {
     "name": "stdout",
     "output_type": "stream",
     "text": [
      "EPOCH 5:\n",
      "LOSS train  0.9568 valid  0.9546\n",
      "EPOCH 10:\n",
      "LOSS train  0.9596 valid  0.9557\n",
      "EPOCH 15:\n",
      "LOSS train  0.9602 valid  0.9577\n",
      "EPOCH 20:\n",
      "LOSS train  0.9602 valid  0.9577\n",
      "EPOCH 25:\n",
      "LOSS train  0.9602 valid  0.9577\n",
      "EPOCH 30:\n",
      "LOSS train  0.9602 valid  0.9577\n",
      "EPOCH 35:\n",
      "LOSS train  0.9602 valid  0.9577\n",
      "EPOCH 40:\n",
      "LOSS train  0.9602 valid  0.9577\n",
      "EPOCH 45:\n",
      "LOSS train  0.9602 valid  0.9577\n",
      "EPOCH 50:\n",
      "LOSS train  0.9602 valid  0.9577\n",
      "EPOCH 55:\n",
      "LOSS train  0.9602 valid  0.9577\n",
      "EPOCH 60:\n",
      "LOSS train  0.9602 valid  0.9577\n",
      "EPOCH 65:\n",
      "LOSS train  0.9602 valid  0.9577\n",
      "EPOCH 70:\n",
      "LOSS train  0.9602 valid  0.9577\n",
      "EPOCH 75:\n",
      "LOSS train  0.9602 valid  0.9577\n",
      "EPOCH 80:\n",
      "LOSS train  0.9602 valid  0.9577\n",
      "EPOCH 85:\n",
      "LOSS train  0.9602 valid  0.9577\n",
      "EPOCH 90:\n",
      "LOSS train  0.9602 valid  0.9577\n",
      "EPOCH 95:\n",
      "LOSS train  0.9602 valid  0.9577\n",
      "EPOCH 100:\n",
      "LOSS train  0.9602 valid  0.9577\n"
     ]
    }
   ],
   "source": [
    "from torch.utils.tensorboard import SummaryWriter\n",
    "epoch_number = 0\n",
    "timestamp = datetime.now().strftime('%Y%m%d_%H%M%S')\n",
    "writer = SummaryWriter(f'../logs/{timestamp}')\n",
    "\n",
    "epoch_number = 0\n",
    "EPOCHS = 100\n",
    "\n",
    "best_vloss = 1e-3\n",
    "\n",
    "for epoch in range(EPOCHS):\n",
    "    # Make sure gradient tracking is on, and do a pass over the data\n",
    "    my_model.train(True)\n",
    "    avg_loss = train_one_epoch(epoch_number, writer)\n",
    "\n",
    "    # We don't need gradients on to do reporting\n",
    "    my_model.train(False)\n",
    "\n",
    "    running_vloss = 0.0\n",
    "    for i, vdata in enumerate(test_loader):\n",
    "        vinputs, vlabels = vdata\n",
    "        voutputs = my_model(vinputs)\n",
    "        vloss = loss_fn(voutputs, vlabels)\n",
    "        running_vloss += vloss\n",
    "\n",
    "    avg_vloss = running_vloss / (i + 1)\n",
    "    if epoch_number % 5 == 4:\n",
    "        print(f'EPOCH {epoch_number + 1}:')\n",
    "        print(f'LOSS train {avg_loss: .4f} valid {avg_vloss: .4f}')\n",
    "\n",
    "    # Log the running loss averaged per batch\n",
    "    # for both training and validation\n",
    "    writer.add_scalars('Training vs. Validation Loss',\n",
    "                    { 'Training' :avg_loss, 'Validation': avg_vloss},\n",
    "                    epoch_number + 1)\n",
    "    writer.flush()\n",
    "\n",
    "    epoch_number += 1\n",
    "    if avg_loss < best_vloss:\n",
    "        break"
   ],
   "metadata": {
    "collapsed": false,
    "pycharm": {
     "name": "#%% 训练数据\n"
    }
   }
  },
  {
   "cell_type": "code",
   "execution_count": 12,
   "outputs": [
    {
     "name": "stderr",
     "output_type": "stream",
     "text": [
      "<ipython-input-12-375ea7fab892>:4: UserWarning: Creating a tensor from a list of numpy.ndarrays is extremely slow. Please consider converting the list to a single numpy.ndarray with numpy.array() before converting to a tensor. (Triggered internally at  ..\\torch\\csrc\\utils\\tensor_new.cpp:201.)\n",
      "  feature, label = torch.Tensor([feature]), torch.Tensor([label])\n"
     ]
    },
    {
     "data": {
      "text/plain": "<Figure size 432x288 with 1 Axes>",
      "image/png": "[encoded data removed]"
     },
     "metadata": {
      "needs_background": "light"
     },
     "output_type": "display_data"
    },
    {
     "name": "stdout",
     "output_type": "stream",
     "text": [
      "1 1\n"
     ]
    }
   ],
   "source": [
    "feature, a1, label, a2 = make_data(x, f_num=2, poly_order=6,\n",
    "         rdio=[1, 2],f_range=[[50, 60],[150, 250]],\n",
    "         m_range=[0.4, 0.8], t_range=[1, 2], td_range=[2, 4])\n",
    "feature, label = torch.Tensor([feature]), torch.Tensor([label])\n",
    "label_pre = my_model(feature)\n",
    "\n",
    "plt.figure()\n",
    "x = np.linspace(0.1, 9, 512)\n",
    "plt.plot(x, feature[0])\n",
    "plt.plot(x, label[0])\n",
    "plt.plot(x, label_pre[0].detach().numpy(), c='r')\n",
    "plt.show()\n",
    "print(len(label), len(feature))"
   ],
   "metadata": {
    "collapsed": false,
    "pycharm": {
     "name": "#%%\n"
    }
   }
  },
  {
   "cell_type": "code",
   "execution_count": 13,
   "outputs": [
    {
     "data": {
      "text/plain": "1"
     },
     "execution_count": 13,
     "metadata": {},
     "output_type": "execute_result"
    }
   ],
   "source": [
    "len(feature)\n"
   ],
   "metadata": {
    "collapsed": false,
    "pycharm": {
     "name": "#%%\n"
    }
   }
  }
 ],
 "metadata": {
  "kernelspec": {
   "name": "pycharm-5ade54fe",
   "language": "python",
   "display_name": "PyCharm (振荡处理)"
  },
  "language_info": {
   "codemirror_mode": {
    "name": "ipython",
    "version": 2
   },
   "file_extension": ".py",
   "mimetype": "text/x-python",
   "name": "python",
   "nbconvert_exporter": "python",
   "pygments_lexer": "ipython2",
   "version": "2.7.6"
  }
 },
 "nbformat": 4,
 "nbformat_minor": 0
}