{
 "cells": [
  {
   "cell_type": "code",
   "execution_count": 42,
   "metadata": {
    "collapsed": true
   },
   "outputs": [],
   "source": [
    "import numpy as np\n",
    "import torch\n",
    "from torch.utils.data import Dataset, DataLoader\n",
    "import torch.nn as nn\n",
    "import torch.nn.functional as F\n",
    "import torch.optim as optim\n",
    "from torchvision import transforms\n",
    "import matplotlib.pyplot as plt"
   ]
  },
  {
   "cell_type": "code",
   "execution_count": 47,
   "outputs": [],
   "source": [
    "class MyDataSet(Dataset):\n",
    "    def __init__(self, features_path, labels_path, trans=None, target_trans=None):\n",
    "        self.features = np.load(features_path, allow_pickle=True)\n",
    "        self.labels = np.load(labels_path, allow_pickle=True)\n",
    "        self.trans = trans\n",
    "        self.target_trans = target_trans\n",
    "\n",
    "    def __len__(self):\n",
    "        return len(self.labels)\n",
    "\n",
    "    def __getitem__(self, item):\n",
    "        feature, label = self.features[item], self.labels[item]\n",
    "        if self.trans:\n",
    "            feature = self.trans(feature)\n",
    "        if self.target_trans:\n",
    "            label = self.target_trans(label)\n",
    "        return feature, label\n",
    "\n",
    "\n",
    "def my_trans(x):\n",
    "    return torch.Tensor(x)\n",
    "\n",
    "train_set = MyDataSet('../../Train/train_features.npy', '../../Train/train_labels.npy',\n",
    "                      trans=my_trans, target_trans=my_trans)\n",
    "test_set = MyDataSet('../../Train/test_features.npy', '../../Train/test_labels.npy',\n",
    "                      trans=my_trans, target_trans=my_trans)\n",
    "train_loader = DataLoader(train_set, batch_size=4)\n",
    "test_loader = DataLoader(test_set, batch_size=4)"
   ],
   "metadata": {
    "collapsed": false,
    "pycharm": {
     "name": "#%% 数据集\n"
    }
   }
  },
  {
   "cell_type": "code",
   "execution_count": 52,
   "outputs": [
    {
     "data": {
      "text/plain": "<Figure size 432x288 with 1 Axes>",
      "image/png": "[encoded data removed]"
     },
     "metadata": {
      "needs_background": "light"
     },
     "output_type": "display_data"
    }
   ],
   "source": [
    "plt.figure()\n",
    "feature, label = train_set[11]\n",
    "x = np.linspace(0.1, 9, 512)\n",
    "plt.plot(x, feature)\n",
    "plt.plot(x, np.poly1d([*label, 0])(x/9))\n",
    "plt.show()"
   ],
   "metadata": {
    "collapsed": false,
    "pycharm": {
     "name": "#%% 展示数据\n"
    }
   }
  },
  {
   "cell_type": "code",
   "execution_count": null,
   "outputs": [],
   "source": [
    "class LK(nn.Module):\n",
    "    def __init__(self):\n",
    "        super().__init__()\n",
    "        self.l1 = nn.Linear(512, 50)\n",
    "        self.l2 = nn.Linear(50, )\n",
    "\n"
   ],
   "metadata": {
    "collapsed": false,
    "pycharm": {
     "name": "#%% 定义模型\n"
    }
   }
  }
 ],
 "metadata": {
  "kernelspec": {
   "display_name": "Python 3",
   "language": "python",
   "name": "python3"
  },
  "language_info": {
   "codemirror_mode": {
    "name": "ipython",
    "version": 2
   },
   "file_extension": ".py",
   "mimetype": "text/x-python",
   "name": "python",
   "nbconvert_exporter": "python",
   "pygments_lexer": "ipython2",
   "version": "2.7.6"
  }
 },
 "nbformat": 4,
 "nbformat_minor": 0
}