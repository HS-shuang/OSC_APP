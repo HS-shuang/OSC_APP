{
 "cells": [
  {
   "cell_type": "code",
   "execution_count": 5,
   "metadata": {
    "collapsed": true
   },
   "outputs": [],
   "source": [
    "import numpy as np\n",
    "import torch\n",
    "from torch.utils.data import Dataset, DataLoader\n",
    "import torch.nn as nn\n",
    "from MakeData import make_data\n",
    "import matplotlib.pyplot as plt\n",
    "from datetime import datetime"
   ]
  },
  {
   "cell_type": "code",
   "execution_count": 6,
   "outputs": [],
   "source": [
    "class MyDataSet(Dataset):\n",
    "    def __init__(self, features_path, labels_path, trans=None, target_trans=None):\n",
    "        self.features = np.load(features_path, allow_pickle=True)\n",
    "        self.labels = np.load(labels_path, allow_pickle=True)\n",
    "        self.trans = trans\n",
    "        self.target_trans = target_trans\n",
    "\n",
    "    def __len__(self):\n",
    "        return len(self.labels)\n",
    "\n",
    "    def __getitem__(self, item):\n",
    "        feature, label = self.features[item], self.labels[item]\n",
    "        if self.trans:\n",
    "            feature = self.trans(feature)\n",
    "        if self.target_trans:\n",
    "            label = self.target_trans(label)\n",
    "        return feature, label\n",
    "\n",
    "\n",
    "def my_trans(x):\n",
    "    return torch.Tensor(x)\n",
    "\n",
    "train_set = MyDataSet('../../../Train/train_features.npy', '../../../Train/train_labels.npy',\n",
    "                      trans=my_trans, target_trans=my_trans)\n",
    "test_set = MyDataSet('../../../Train/test_features.npy', '../../../Train/test_labels.npy',\n",
    "                      trans=my_trans, target_trans=my_trans)\n",
    "train_loader = DataLoader(train_set, batch_size=10)\n",
    "test_loader = DataLoader(test_set, batch_size=10)"
   ],
   "metadata": {
    "collapsed": false,
    "pycharm": {
     "name": "#%% 数据集\n"
    }
   }
  },
  {
   "cell_type": "code",
   "execution_count": 7,
   "outputs": [
    {
     "data": {
      "text/plain": "<Figure size 432x288 with 1 Axes>",
      "image/png": "[encoded data removed]"
     },
     "metadata": {
      "needs_background": "light"
     },
     "output_type": "display_data"
    },
    {
     "name": "stdout",
     "output_type": "stream",
     "text": [
      "6 512\n"
     ]
    }
   ],
   "source": [
    "plt.figure()\n",
    "feature, label = train_set[1]\n",
    "x = np.linspace(0.1, 9, 512)\n",
    "plt.plot(x, feature)\n",
    "plt.plot(x, np.poly1d([*label, 0])(x/9))\n",
    "plt.show()\n",
    "print(len(label), len(feature))"
   ],
   "metadata": {
    "collapsed": false,
    "pycharm": {
     "name": "#%% 展示数据\n"
    }
   }
  },
  {
   "cell_type": "code",
   "execution_count": 8,
   "outputs": [
    {
     "name": "stdout",
     "output_type": "stream",
     "text": [
      "parameters:\n",
      "Parameter containing:\n",
      "tensor([[ 0.0209, -0.0395,  0.0106,  ...,  0.0399, -0.0298, -0.0071],\n",
      "        [ 0.0220,  0.0077, -0.0399,  ..., -0.0007,  0.0206,  0.0344],\n",
      "        [ 0.0132,  0.0184, -0.0152,  ..., -0.0124, -0.0183,  0.0010],\n",
      "        ...,\n",
      "        [ 0.0032,  0.0381,  0.0436,  ..., -0.0148, -0.0243,  0.0188],\n",
      "        [-0.0208, -0.0292,  0.0111,  ..., -0.0146, -0.0298,  0.0051],\n",
      "        [ 0.0330,  0.0197, -0.0088,  ..., -0.0391,  0.0020,  0.0012]],\n",
      "       requires_grad=True)\n",
      "Parameter containing:\n",
      "tensor([-0.0411, -0.0119, -0.0119,  0.0353, -0.0441,  0.0265,  0.0334,  0.0320,\n",
      "        -0.0092,  0.0336,  0.0439, -0.0052,  0.0183,  0.0437,  0.0206, -0.0005,\n",
      "        -0.0084,  0.0313, -0.0122,  0.0131,  0.0258,  0.0067, -0.0255,  0.0169,\n",
      "        -0.0309, -0.0264, -0.0368, -0.0145, -0.0147, -0.0245,  0.0439,  0.0020,\n",
      "         0.0023, -0.0414,  0.0203,  0.0163, -0.0188, -0.0175,  0.0130, -0.0013,\n",
      "         0.0336,  0.0143, -0.0048,  0.0182,  0.0285,  0.0155,  0.0291,  0.0036,\n",
      "        -0.0425,  0.0038,  0.0379, -0.0249, -0.0420,  0.0036, -0.0135,  0.0174,\n",
      "         0.0384, -0.0216,  0.0085, -0.0394, -0.0378, -0.0110, -0.0220, -0.0412,\n",
      "         0.0272,  0.0222,  0.0190, -0.0379, -0.0310,  0.0241, -0.0378, -0.0241,\n",
      "        -0.0035,  0.0372,  0.0403, -0.0032, -0.0265,  0.0084,  0.0004, -0.0381,\n",
      "        -0.0252,  0.0076, -0.0347, -0.0173,  0.0173,  0.0158,  0.0325,  0.0256,\n",
      "         0.0436, -0.0031, -0.0147, -0.0425, -0.0331, -0.0301,  0.0044,  0.0178,\n",
      "        -0.0205, -0.0011,  0.0158, -0.0134, -0.0412, -0.0413, -0.0298,  0.0123,\n",
      "         0.0255,  0.0431, -0.0432, -0.0148,  0.0056, -0.0208, -0.0105, -0.0367,\n",
      "        -0.0280,  0.0084, -0.0388, -0.0222,  0.0217,  0.0113, -0.0419, -0.0351,\n",
      "        -0.0027, -0.0215,  0.0215, -0.0003, -0.0003, -0.0201, -0.0160, -0.0228,\n",
      "        -0.0056, -0.0105,  0.0202, -0.0099,  0.0045,  0.0391,  0.0346,  0.0160,\n",
      "         0.0069,  0.0405, -0.0046, -0.0068, -0.0199,  0.0198,  0.0404,  0.0068,\n",
      "        -0.0395, -0.0183, -0.0146,  0.0371,  0.0429,  0.0388, -0.0290, -0.0094,\n",
      "        -0.0335, -0.0341, -0.0114, -0.0232, -0.0172,  0.0027, -0.0298,  0.0429,\n",
      "         0.0280,  0.0230,  0.0258, -0.0172, -0.0090,  0.0416, -0.0132, -0.0059,\n",
      "        -0.0295,  0.0162, -0.0093,  0.0060,  0.0248,  0.0439, -0.0431,  0.0373,\n",
      "        -0.0138, -0.0109,  0.0179,  0.0314,  0.0075,  0.0082,  0.0104, -0.0005,\n",
      "        -0.0390, -0.0031, -0.0051,  0.0358,  0.0314,  0.0363,  0.0355, -0.0433,\n",
      "         0.0215,  0.0303,  0.0354, -0.0118,  0.0187,  0.0380, -0.0104, -0.0060],\n",
      "       requires_grad=True)\n",
      "Parameter containing:\n",
      "tensor([[ 0.0062, -0.0089, -0.0417,  ...,  0.0056,  0.0536, -0.0209],\n",
      "        [-0.0440,  0.0639,  0.0311,  ..., -0.0065, -0.0368,  0.0171],\n",
      "        [-0.0205, -0.0066,  0.0540,  ...,  0.0401,  0.0503,  0.0217],\n",
      "        [ 0.0014, -0.0300,  0.0325,  ...,  0.0101, -0.0115, -0.0397],\n",
      "        [-0.0388,  0.0697, -0.0492,  ..., -0.0552, -0.0031, -0.0259],\n",
      "        [ 0.0662,  0.0463,  0.0156,  ...,  0.0112, -0.0387,  0.0629]],\n",
      "       requires_grad=True)\n",
      "Parameter containing:\n",
      "tensor([-0.0036,  0.0095,  0.0407,  0.0326, -0.0529, -0.0320],\n",
      "       requires_grad=True)\n"
     ]
    }
   ],
   "source": [
    "class LK(nn.Module):\n",
    "    def __init__(self):\n",
    "        super().__init__()\n",
    "        self.l1 = nn.Linear(512, 200)\n",
    "        self.activation1 = torch.nn.Tanh()\n",
    "        self.l2 = nn.Linear(200, 6)\n",
    "        self.activation2 = torch.nn.Tanh()\n",
    "\n",
    "    def forward(self, x):\n",
    "        x = self.l1(x)\n",
    "        x = self.activation1(x)\n",
    "        x = self.l2(x)\n",
    "        x = self.activation2(x)\n",
    "        return x\n",
    "\n",
    "my_model = LK()\n",
    "\n",
    "print('parameters:')\n",
    "for pa in my_model.parameters():\n",
    "    print(pa)"
   ],
   "metadata": {
    "collapsed": false,
    "pycharm": {
     "name": "#%% 定义模型\n"
    }
   }
  },
  {
   "cell_type": "code",
   "execution_count": 9,
   "outputs": [
    {
     "name": "stdout",
     "output_type": "stream",
     "text": [
      "train label:\n",
      "tensor([-0.0686,  0.0655, -0.0009,  0.4491,  0.5124,  0.0279])\n",
      "\n",
      "loss:\n",
      "4.0\n",
      "loss:\n",
      "0.0\n"
     ]
    }
   ],
   "source": [
    "loss_fn = torch.nn.MSELoss()\n",
    "feature, label = train_set[1]\n",
    "outputs = label + 2\n",
    "\n",
    "print(f'train label:\\n{label}\\n')\n",
    "print(f'loss:\\n{loss_fn(outputs, label)}')\n",
    "print(f'loss:\\n{loss_fn(label, label)}')"
   ],
   "metadata": {
    "collapsed": false,
    "pycharm": {
     "name": "#%% LOSS\n"
    }
   }
  },
  {
   "cell_type": "code",
   "execution_count": 10,
   "outputs": [],
   "source": [
    "optimizer = torch.optim.SGD(my_model.parameters(), lr=0.002, momentum=0.9)"
   ],
   "metadata": {
    "collapsed": false,
    "pycharm": {
     "name": "#%% Optimizer\n"
    }
   }
  },
  {
   "cell_type": "code",
   "execution_count": 11,
   "outputs": [],
   "source": [
    "def train_one_epoch(epoch_index, writer):\n",
    "    running_loss = 0.\n",
    "    last_loss = 0.\n",
    "\n",
    "    for i, data in enumerate(train_loader):\n",
    "        input, label = data\n",
    "\n",
    "        # Zero your gradients for every batch!\n",
    "        optimizer.zero_grad()\n",
    "\n",
    "        # Make predictions for this batch\n",
    "        output = my_model(input)\n",
    "\n",
    "        # Compute the loss and its gradients\n",
    "        loss = loss_fn(output, label)\n",
    "        loss.backward()\n",
    "\n",
    "        # Adjust learning weights\n",
    "        optimizer.step()\n",
    "\n",
    "        # Gather data and report\n",
    "        running_loss += loss.item()\n",
    "        if i % 100 == 99:\n",
    "            last_loss = running_loss / 100 # loss per batch\n",
    "\n",
    "            loss_x = epoch_index * len(train_loader) + i + 1\n",
    "            writer.add_scalar('Loss/train', last_loss, loss_x)\n",
    "\n",
    "            running_loss = 0.\n",
    "\n",
    "    return last_loss"
   ],
   "metadata": {
    "collapsed": false,
    "pycharm": {
     "name": "#%%\n"
    }
   }
  },
  {
   "cell_type": "code",
   "execution_count": 12,
   "outputs": [
    {
     "name": "stdout",
     "output_type": "stream",
     "text": [
      "EPOCH 5:\n",
      "LOSS train  0.3677 valid  0.2777\n",
      "EPOCH 10:\n",
      "LOSS train  0.3597 valid  0.2711\n",
      "EPOCH 15:\n",
      "LOSS train  0.3522 valid  0.2648\n",
      "EPOCH 20:\n",
      "LOSS train  0.3444 valid  0.2582\n"
     ]
    }
   ],
   "source": [
    "from torch.utils.tensorboard import SummaryWriter\n",
    "epoch_number = 0\n",
    "timestamp = datetime.now().strftime('%Y%m%d_%H%M%S')\n",
    "writer = SummaryWriter(f'../logs/{timestamp}')\n",
    "\n",
    "epoch_number = 0\n",
    "EPOCHS = 20\n",
    "\n",
    "best_vloss = 1e-3\n",
    "\n",
    "for epoch in range(EPOCHS):\n",
    "    # Make sure gradient tracking is on, and do a pass over the data\n",
    "    my_model.train(True)\n",
    "    avg_loss = train_one_epoch(epoch_number, writer)\n",
    "\n",
    "    # We don't need gradients on to do reporting\n",
    "    my_model.train(False)\n",
    "\n",
    "    running_vloss = 0.0\n",
    "    for i, vdata in enumerate(test_loader):\n",
    "        vinputs, vlabels = vdata\n",
    "        voutputs = my_model(vinputs)\n",
    "        vloss = loss_fn(voutputs, vlabels)\n",
    "        running_vloss += vloss\n",
    "\n",
    "    avg_vloss = running_vloss / (i + 1)\n",
    "    if epoch_number % 5 == 4:\n",
    "        print(f'EPOCH {epoch_number + 1}:')\n",
    "        print(f'LOSS train {avg_loss: .4f} valid {avg_vloss: .4f}')\n",
    "\n",
    "    # Log the running loss averaged per batch\n",
    "    # for both training and validation\n",
    "    writer.add_scalars('Training vs. Validation Loss',\n",
    "                    { 'Training' :avg_loss, 'Validation': avg_vloss},\n",
    "                    epoch_number + 1)\n",
    "    writer.flush()\n",
    "\n",
    "    epoch_number += 1\n",
    "    if avg_loss < best_vloss:\n",
    "        break"
   ],
   "metadata": {
    "collapsed": false,
    "pycharm": {
     "name": "#%%\n"
    }
   }
  },
  {
   "cell_type": "code",
   "execution_count": 13,
   "outputs": [
    {
     "data": {
      "text/plain": "<Figure size 432x288 with 1 Axes>",
      "image/png": "[encoded data removed]"
     },
     "metadata": {
      "needs_background": "light"
     },
     "output_type": "display_data"
    },
    {
     "name": "stdout",
     "output_type": "stream",
     "text": [
      "6 512\n"
     ]
    }
   ],
   "source": [
    "feature, a1, a2, label = make_data(x, f_num=2, poly_order=6,\n",
    "         rdio=[1, 2],f_range=[[50, 60],[150, 250]],\n",
    "         m_range=[0.4, 0.8], t_range=[1, 2], td_range=[2, 4])\n",
    "feature, label = torch.Tensor(feature), torch.Tensor(label)\n",
    "label_pre = my_model(feature)\n",
    "\n",
    "plt.figure()\n",
    "x = np.linspace(0.1, 9, 512)\n",
    "plt.plot(x, feature)\n",
    "plt.plot(x, np.poly1d([*label, 0])(x/9))\n",
    "plt.plot(x, np.poly1d(np.append(label_pre.detach().numpy(), 0))(x/9), c='r')\n",
    "plt.show()\n",
    "print(len(label), len(feature))"
   ],
   "metadata": {
    "collapsed": false,
    "pycharm": {
     "name": "#%%\n"
    }
   }
  },
  {
   "cell_type": "code",
   "execution_count": 14,
   "outputs": [
    {
     "data": {
      "text/plain": "512"
     },
     "execution_count": 14,
     "metadata": {},
     "output_type": "execute_result"
    }
   ],
   "source": [
    "len(feature)\n"
   ],
   "metadata": {
    "collapsed": false,
    "pycharm": {
     "name": "#%%\n"
    }
   }
  }
 ],
 "metadata": {
  "kernelspec": {
   "name": "pycharm-5ade54fe",
   "language": "python",
   "display_name": "PyCharm (振荡处理)"
  },
  "language_info": {
   "codemirror_mode": {
    "name": "ipython",
    "version": 2
   },
   "file_extension": ".py",
   "mimetype": "text/x-python",
   "name": "python",
   "nbconvert_exporter": "python",
   "pygments_lexer": "ipython2",
   "version": "2.7.6"
  }
 },
 "nbformat": 4,
 "nbformat_minor": 0
}